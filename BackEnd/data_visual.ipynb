{
 "cells": [
  {
   "cell_type": "code",
   "execution_count": 15,
   "metadata": {},
   "outputs": [
    {
     "data": {
      "text/plain": [
       "'https://www.goodfirms.co/'"
      ]
     },
     "execution_count": 15,
     "metadata": {},
     "output_type": "execute_result"
    }
   ],
   "source": [
    "# So this is going to be used for quickly looking at data collected by our modules\n",
    "from bs4 import BeautifulSoup\n",
    "import requests\n",
    "search_query = input(\"what search\")\n",
    "desired_results = 10 \n",
    "search_query.replace(' ', '+')\n",
    "\n",
    "url = \"https://www.goodfirms.co/search?query=\"\n",
    "response = requests.get(url)\n",
    "response.url\n"
   ]
  },
  {
   "cell_type": "code",
   "execution_count": 4,
   "metadata": {},
   "outputs": [],
   "source": [
    "def parse_search_results(html_content):\n",
    "    soup = BeautifulSoup(html_content, \"html.parser\")\n",
    "    search_results = soup.find_all(\"div\", class_=\"g\")\n",
    "    top_urls = []\n",
    "    for result in search_results:\n",
    "        link = result.find(\"a\")\n",
    "        if link:\n",
    "            href = link.get(\"href\")\n",
    "            if href.startswith(\"/url?q=\"):\n",
    "                url = href[7:].split(\"&\")[0]\n",
    "                top_urls.append(url)\n",
    "    return top_urls\n",
    "\n",
    "if response.status_code == 200:\n",
    "    search_results = parse_search_results(response.content)\n",
    "    search_results\n",
    "    "
   ]
  }
 ],
 "metadata": {
  "kernelspec": {
   "display_name": "Python 3",
   "language": "python",
   "name": "python3"
  },
  "language_info": {
   "codemirror_mode": {
    "name": "ipython",
    "version": 3
   },
   "file_extension": ".py",
   "mimetype": "text/x-python",
   "name": "python",
   "nbconvert_exporter": "python",
   "pygments_lexer": "ipython3",
   "version": "3.11.0"
  },
  "orig_nbformat": 4,
  "vscode": {
   "interpreter": {
    "hash": "0a21d665682683448877e0ee40a80611b783f71bf97db6bd8c2a222af38b5007"
   }
  }
 },
 "nbformat": 4,
 "nbformat_minor": 2
}
