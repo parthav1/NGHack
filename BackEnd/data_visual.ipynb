{
 "cells": [
  {
   "cell_type": "code",
   "execution_count": 5,
   "metadata": {},
   "outputs": [
    {
     "name": "stdout",
     "output_type": "stream",
     "text": [
      "0           3\n",
      "1           8\n",
      "2          11\n",
      "3          17\n",
      "4          23\n",
      "         ... \n",
      "115415    NaN\n",
      "115416    NaN\n",
      "115417    NaN\n",
      "115418    NaN\n",
      "115419    NaN\n",
      "Name: review_count, Length: 115420, dtype: object\n"
     ]
    }
   ],
   "source": [
    "import pandas as pd\n",
    "from time import time\n",
    "\n",
    "data_master = pd.read_csv('Data/data.csv')\n",
    "data_master = data_master.replace('', 'N/A')\n",
    "data_master = data_master.fillna('N/A')\n",
    "data_master['review_count'] = data_master['review_count'].str.extract('(\\d+)')\n",
    "print(data_master['review_count'])"
   ]
  }
 ],
 "metadata": {
  "kernelspec": {
   "display_name": "Python 3",
   "language": "python",
   "name": "python3"
  },
  "language_info": {
   "codemirror_mode": {
    "name": "ipython",
    "version": 3
   },
   "file_extension": ".py",
   "mimetype": "text/x-python",
   "name": "python",
   "nbconvert_exporter": "python",
   "pygments_lexer": "ipython3",
   "version": "3.10.0"
  },
  "orig_nbformat": 4,
  "vscode": {
   "interpreter": {
    "hash": "aee8b7b246df8f9039afb4144a1f6fd8d2ca17a180786b69acc140d282b71a49"
   }
  }
 },
 "nbformat": 4,
 "nbformat_minor": 2
}
