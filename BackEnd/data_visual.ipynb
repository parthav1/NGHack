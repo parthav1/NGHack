{
 "cells": [
  {
   "cell_type": "code",
   "execution_count": 13,
   "metadata": {},
   "outputs": [
    {
     "data": {
      "text/plain": [
       "'https://www.google.com/search?q=artifical+intelligence++site%3A.com+vendors+-inurl%3Ablog+-inurl%3Anews+-inurl%3Ablog&num=20'"
      ]
     },
     "execution_count": 13,
     "metadata": {},
     "output_type": "execute_result"
    }
   ],
   "source": [
    "# So this is going to be used for quickly looking at data collected by our modules\n",
    "from bs4 import BeautifulSoup\n",
    "import requests\n",
    "\n",
    "# self-explanatory\n",
    "search_query = input(\"What u tryna search bitch: \")\n",
    "desired_results = input(\"how many results u want: \")\n",
    "\n",
    "# we're gonna use google as our main bitch and search it with the requests library\n",
    "# Then we search it up and the response var has all of it\n",
    "url = \"https://www.google.com/search\"\n",
    "domain = \".com\"\n",
    "params = {\n",
    "    \"q\" : f\"{search_query} site:{domain} vendors -inurl:news\",\n",
    "    \"num\" : int(desired_results)\n",
    "}\n",
    "response = requests.get(url, params=params)\n",
    "\n",
    "response.url\n"
   ]
  },
  {
   "cell_type": "code",
   "execution_count": 7,
   "metadata": {},
   "outputs": [
    {
     "data": {
      "text/plain": [
       "[]"
      ]
     },
     "execution_count": 7,
     "metadata": {},
     "output_type": "execute_result"
    }
   ],
   "source": [
    "soup = BeautifulSoup(response.content, \"html.parser\")\n",
    "search_results = soup.find_all(\"div\", class_g=\"g\") # @ALSTON, should i look for other tags bc some pages are laid out differently or no?\n",
    "top_sites = []\n",
    "for result in search_results:\n",
    "    link = result.find(\"a\")\n",
    "    if link:\n",
    "        href = link.get(\"href\")\n",
    "        if href.startswith(\"/url?q=\"):\n",
    "            url = href[7:].split(\"&\")[0]\n",
    "            top_sites.append(url)\n",
    "\n",
    "top_sites"
   ]
  }
 ],
 "metadata": {
  "kernelspec": {
   "display_name": "Python 3",
   "language": "python",
   "name": "python3"
  },
  "language_info": {
   "codemirror_mode": {
    "name": "ipython",
    "version": 3
   },
   "file_extension": ".py",
   "mimetype": "text/x-python",
   "name": "python",
   "nbconvert_exporter": "python",
   "pygments_lexer": "ipython3",
   "version": "3.11.0"
  },
  "orig_nbformat": 4,
  "vscode": {
   "interpreter": {
    "hash": "0a21d665682683448877e0ee40a80611b783f71bf97db6bd8c2a222af38b5007"
   }
  }
 },
 "nbformat": 4,
 "nbformat_minor": 2
}
